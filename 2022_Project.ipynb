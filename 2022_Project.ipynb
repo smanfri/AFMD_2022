{
  "nbformat": 4,
  "nbformat_minor": 0,
  "metadata": {
    "colab": {
      "name": "2022_Project.ipynb",
      "provenance": [],
      "collapsed_sections": [
        "K_QyP8To-qfJ",
        "nqJQlQWD3OVK",
        "vs8mPLya5fwu",
        "9Q1nKViA_IUS",
        "ON7N3zOTGDV6",
        "Fue8qXXGgOP_",
        "YAazMSzNgjsF",
        "ElxIBJhcGTBn",
        "AVPmLCCrhCmF",
        "FWcRAUa3kG9q",
        "weH5BLIJlbFm",
        "OqbIPEW6pWpA",
        "2xz7CLDjptoV",
        "RAaXjkLXCmrH"
      ],
      "authorship_tag": "ABX9TyPotT87PuY1SSPIfEVd66+9",
      "include_colab_link": true
    },
    "kernelspec": {
      "name": "python3",
      "display_name": "Python 3"
    },
    "language_info": {
      "name": "python"
    }
  },
  "cells": [
    {
      "cell_type": "markdown",
      "metadata": {
        "id": "view-in-github",
        "colab_type": "text"
      },
      "source": [
        "<a href=\"https://colab.research.google.com/github/smanfri/AFMD_2022/blob/main/2022_Project.ipynb\" target=\"_parent\"><img src=\"https://colab.research.google.com/assets/colab-badge.svg\" alt=\"Open In Colab\"/></a>"
      ]
    },
    {
      "cell_type": "markdown",
      "source": [
        "#FINDING SIMILAR ITEMS\n",
        "##Ukraine Conflict Twitter Dataset "
      ],
      "metadata": {
        "id": "SzOPmsNJQCWU"
      }
    },
    {
      "cell_type": "markdown",
      "source": [
        "#Set up the environment"
      ],
      "metadata": {
        "id": "ioTNSzTFlAB0"
      }
    },
    {
      "cell_type": "code",
      "execution_count": null,
      "metadata": {
        "id": "JVBv26l7k6kD",
        "colab": {
          "base_uri": "https://localhost:8080/"
        },
        "outputId": "4551d47a-58ff-4bec-ca97-8cf0f7951dd4"
      },
      "outputs": [
        {
          "output_type": "stream",
          "name": "stdout",
          "text": [
            "--2022-07-06 14:02:09--  https://archive.apache.org/dist/spark/spark-2.4.8/spark-2.4.8-bin-hadoop2.7.tgz\n",
            "Resolving archive.apache.org (archive.apache.org)... 138.201.131.134, 2a01:4f8:172:2ec5::2\n",
            "Connecting to archive.apache.org (archive.apache.org)|138.201.131.134|:443... connected.\n",
            "HTTP request sent, awaiting response... 200 OK\n",
            "Length: 235899716 (225M) [application/x-gzip]\n",
            "Saving to: ‘spark-2.4.8-bin-hadoop2.7.tgz’\n",
            "\n",
            "spark-2.4.8-bin-had 100%[===================>] 224.97M  23.6MB/s    in 21s     \n",
            "\n",
            "2022-07-06 14:02:31 (10.7 MB/s) - ‘spark-2.4.8-bin-hadoop2.7.tgz’ saved [235899716/235899716]\n",
            "\n"
          ]
        }
      ],
      "source": [
        "!apt-get install openjdk-8-jdk-headless -qq > /dev/null\n",
        "!wget https://archive.apache.org/dist/spark/spark-2.4.8/spark-2.4.8-bin-hadoop2.7.tgz\n",
        "!tar xf spark-2.4.8-bin-hadoop2.7.tgz\n",
        "!pip install -q findspark\n",
        "\n",
        "import os\n",
        "os.environ[\"JAVA_HOME\"] = \"/usr/lib/jvm/java-8-openjdk-amd64\"\n",
        "os.environ[\"SPARK_HOME\"] = \"/content/spark-2.4.8-bin-hadoop2.7\"\n",
        "\n",
        "import findspark\n",
        "findspark.init(\"spark-2.4.8-bin-hadoop2.7\") \n",
        "from pyspark.sql import SparkSession\n",
        "#spark = SparkSession.builder.master(\"local[*]\").getOrCreate()\n",
        "\n",
        "spark = SparkSession.builder \\\n",
        "    .master('local[*]') \\\n",
        "    .config('spark.executor.memory', '5G') \\\n",
        "    .config(\"spark.driver.memory\", \"5g\") \\\n",
        "    .appName('my-cool-app') \\\n",
        "    .getOrCreate()\n",
        "\n",
        "sc = spark.sparkContext"
      ]
    },
    {
      "cell_type": "markdown",
      "source": [
        "#Importing the libraries needed"
      ],
      "metadata": {
        "id": "cz_v47pNPr1K"
      }
    },
    {
      "cell_type": "code",
      "source": [
        "from google.colab import files\n",
        "import numpy as np\n",
        "import pandas as pd\n",
        "import csv\n",
        "import os\n",
        "import re\n",
        "import random\n",
        "import matplotlib.pyplot as plt"
      ],
      "metadata": {
        "id": "CtfiaPD7PrOo"
      },
      "execution_count": null,
      "outputs": []
    },
    {
      "cell_type": "markdown",
      "source": [
        "#Connect with kaggle"
      ],
      "metadata": {
        "id": "AIubDX65lKrr"
      }
    },
    {
      "cell_type": "code",
      "source": [
        "uploaded = files.upload()\n",
        "\n",
        "for fn in uploaded.keys():\n",
        "  print('User uploaded file \"{name}\" with length {length} bytes'.format(\n",
        "      name=fn, length=len(uploaded[fn])))\n",
        "  \n",
        "# Then move kaggle.json into the folder where the API expects to find it.\n",
        "!mkdir -p ~/.kaggle/ && mv kaggle.json ~/.kaggle/ && chmod 600 ~/.kaggle/kaggle.json"
      ],
      "metadata": {
        "id": "Uk3owgGQlMh_",
        "colab": {
          "resources": {
            "http://localhost:8080/nbextensions/google.colab/files.js": {
              "data": "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",
              "ok": true,
              "headers": [
                [
                  "content-type",
                  "application/javascript"
                ]
              ],
              "status": 200,
              "status_text": ""
            }
          },
          "base_uri": "https://localhost:8080/",
          "height": 92
        },
        "outputId": "fe647966-d647-4eaa-914b-03c7eb35160c"
      },
      "execution_count": null,
      "outputs": [
        {
          "output_type": "display_data",
          "data": {
            "text/plain": [
              "<IPython.core.display.HTML object>"
            ],
            "text/html": [
              "\n",
              "     <input type=\"file\" id=\"files-0ffbe972-90ca-4d34-ad21-023300187558\" name=\"files[]\" multiple disabled\n",
              "        style=\"border:none\" />\n",
              "     <output id=\"result-0ffbe972-90ca-4d34-ad21-023300187558\">\n",
              "      Upload widget is only available when the cell has been executed in the\n",
              "      current browser session. Please rerun this cell to enable.\n",
              "      </output>\n",
              "      <script src=\"/nbextensions/google.colab/files.js\"></script> "
            ]
          },
          "metadata": {}
        },
        {
          "output_type": "stream",
          "name": "stdout",
          "text": [
            "Saving kaggle.json to kaggle.json\n",
            "User uploaded file \"kaggle.json\" with length 68 bytes\n"
          ]
        }
      ]
    },
    {
      "cell_type": "markdown",
      "source": [
        "#Download the data\n",
        "Specify the number of files that we want to download.\n",
        "Filter for only tweet in english and mantain only the columns tweetId and text of the tweet."
      ],
      "metadata": {
        "id": "btBrgvILlQpq"
      }
    },
    {
      "cell_type": "code",
      "source": [
        "result = !kaggle datasets files -v bwandowando/ukraine-russian-crisis-twitter-dataset-1-2-m-rows\n",
        "result = result[1:] #Filtering the header.\n",
        "list_files = [r.split(',')[0] for r in result]\n",
        "print(list_files)"
      ],
      "metadata": {
        "colab": {
          "base_uri": "https://localhost:8080/"
        },
        "id": "zbsys_pstQRZ",
        "outputId": "fa4706c5-9a10-431d-ce5a-b2e20a9e9d7e"
      },
      "execution_count": null,
      "outputs": [
        {
          "output_type": "stream",
          "name": "stdout",
          "text": [
            "['0508_UkraineCombinedTweetsDeduped.csv.gzip', '0426_UkraineCombinedTweetsDeduped.csv.gzip', '0430_UkraineCombinedTweetsDeduped.csv.gzip', '0503_UkraineCombinedTweetsDeduped.csv.gzip', '0403_UkraineCombinedTweetsDeduped.csv.gzip', '0415_UkraineCombinedTweetsDeduped.csv.gzip', '0511_UkraineCombinedTweetsDeduped.csv.gzip', '0422_UkraineCombinedTweetsDeduped.csv.gzip', '0423_UkraineCombinedTweetsDeduped.csv.gzip', '0407_UkraineCombinedTweetsDeduped.csv.gzip', '0505_to_0507_UkraineCombinedTweetsDeduped.csv.gzip', '0417_UkraineCombinedTweetsDeduped.csv.gzip', '0412_UkraineCombinedTweetsDeduped.csv.gzip', '0515_UkraineCombinedTweetsDeduped.csv.gzip', '0414_UkraineCombinedTweetsDeduped.csv.gzip', '0418_UkraineCombinedTweetsDeduped.csv.gzip', '0406_UkraineCombinedTweetsDeduped.csv.gzip', '0502_UkraineCombinedTweetsDeduped.csv.gzip', '0402_UkraineCombinedTweetsDeduped.csv.gzip', '0419_UkraineCombinedTweetsDeduped.csv.gzip', '0518_UkraineCombinedTweetsDeduped.csv.gzip', '0413_UkraineCombinedTweetsDeduped.csv.gzip', '0509_UkraineCombinedTweetsDeduped.csv.gzip', '0517_UkraineCombinedTweetsDeduped.csv.gzip', '0513_UkraineCombinedTweetsDeduped.csv.gzip', '0501_UkraineCombinedTweetsDeduped.csv.gzip', '0404_UkraineCombinedTweetsDeduped.csv.gzip', '0409_UkraineCombinedTweetsDeduped.csv.gzip', '0421_UkraineCombinedTweetsDeduped.csv.gzip', '0410_UkraineCombinedTweetsDeduped.csv.gzip', '0514_UkraineCombinedTweetsDeduped.csv.gzip', '0424_UkraineCombinedTweetsDeduped.csv.gzip', '0429_UkraineCombinedTweetsDeduped.csv.gzip', '0512_UkraineCombinedTweetsDeduped.csv.gzip', '0522_UkraineCombinedTweetsDeduped.csv.gzip', '0427_UkraineCombinedTweetsDeduped.csv.gzip', '0405_UkraineCombinedTweetsDeduped.csv.gzip', '0519_UkraineCombinedTweetsDeduped.csv.gzip', '0408_UkraineCombinedTweetsDeduped.csv.gzip', '0416_UkraineCombinedTweetsDeduped.csv.gzip', '0411_UkraineCombinedTweetsDeduped.csv.gzip', '0401_UkraineCombinedTweetsDeduped.csv.gzip', '0425_UkraineCombinedTweetsDeduped.csv.gzip', '0504_UkraineCombinedTweetsDeduped.csv.gzip', '0428_UkraineCombinedTweetsDeduped.csv.gzip', '0510_UkraineCombinedTweetsDeduped.csv.gzip', '0420_UkraineCombinedTweetsDeduped.csv.gzip', '0520_UkraineCombinedTweetsDeduped.csv.gzip', '0521_UkraineCombinedTweetsDeduped.csv.gzip', '0516_UkraineCombinedTweetsDeduped.csv.gzip']\n"
          ]
        }
      ]
    },
    {
      "cell_type": "code",
      "source": [
        "def foundFileAvailable(list_filesName:list):\n",
        "  \"\"\"Function that found the first file available for the download\n",
        "     in the list of file names.\n",
        "    \n",
        "    Parameters\n",
        "    --------------------------\n",
        "    list_filesName:list\n",
        "        The list of file names.\n",
        "\n",
        "    Raises\n",
        "    ---------------------\n",
        "    ValueError,\n",
        "        If the list is empty.\n",
        "    \n",
        "    Returns\n",
        "    ---------------------\n",
        "    path_file:str,\n",
        "        The path file of the first file found available for the download.\n",
        "    list_filesName:list\n",
        "        The rest of the list not already checked.    \n",
        "  \"\"\"\n",
        "  \n",
        "  len_list = len(list_filesName)\n",
        "  if len_list == 0:\n",
        "    raise ValueError('The list is empty.')\n",
        "  numFileAlreadyScan = 0\n",
        "  for i in range(len_list):\n",
        "    path_file = list_filesName[i]\n",
        "    result = !kaggle datasets download bwandowando/ukraine-russian-crisis-twitter-dataset-1-2-m-rows -f {path_file}\n",
        "    if result[0] != '404 - Not Found':\n",
        "      numFileAlreadyScan = i\n",
        "      break\n",
        "  return path_file, list_filesName[numFileAlreadyScan+1:]"
      ],
      "metadata": {
        "id": "RtcY0s3w20K7"
      },
      "execution_count": null,
      "outputs": []
    },
    {
      "cell_type": "code",
      "source": [
        "def getRDD(list_filesName:list, numberToDownload:int):\n",
        "  \"\"\"Function that return the RDD composed of the data from the file downloaded.\n",
        "     Only the tweets in English are maintened.\n",
        "    \n",
        "    Parameters\n",
        "    --------------------------\n",
        "    list_filesName:list,\n",
        "        The list of file names.\n",
        "    numberToDownload:int\n",
        "        Number of files to be downloaded.\n",
        "\n",
        "    Raises\n",
        "    ---------------------\n",
        "    ValueError,\n",
        "        If the list is empty.\n",
        "    \n",
        "    Returns\n",
        "    ---------------------\n",
        "    RDD_Tweets: RDD\n",
        "        RDD that contains the data downloaded.\n",
        "  \"\"\"\n",
        "  RDD_Tweets = sc.emptyRDD()\n",
        "  for i in range(numberToDownload):\n",
        "    path_file, list_filesName = foundFileAvailable(list_filesName)\n",
        "    content_path = \"/content/\"+path_file\n",
        "\n",
        "    !kaggle datasets download bwandowando/ukraine-russian-crisis-twitter-dataset-1-2-m-rows -f {path_file}\n",
        "    !unzip {content_path} -d \"/content/\"\n",
        "    df = pd.read_csv(content_path, compression='gzip', index_col=0,encoding='utf-8', quoting=csv.QUOTE_ALL)\n",
        "\n",
        "    #select only the tweets in english\n",
        "    df_en=df[df['language']=='en'][['tweetid', 'text']]\n",
        "    RDD_New = spark.createDataFrame(df_en).rdd\n",
        "    RDD_Tweets = RDD_Tweets.union(RDD_New)\n",
        "  return RDD_Tweets"
      ],
      "metadata": {
        "id": "llEP63svyFwo"
      },
      "execution_count": null,
      "outputs": []
    },
    {
      "cell_type": "code",
      "source": [
        "RDD_Tweets = getRDD(list_files, numberToDownload=1)\n",
        "RDD_Tweets.count()"
      ],
      "metadata": {
        "colab": {
          "base_uri": "https://localhost:8080/"
        },
        "id": "-lat_l5a0w2w",
        "outputId": "38bf746a-954a-48dd-91b0-7edf99f261fe"
      },
      "execution_count": null,
      "outputs": [
        {
          "output_type": "stream",
          "name": "stdout",
          "text": [
            "0403_UkraineCombinedTweetsDeduped.csv.gzip.zip: Skipping, found more recently modified local copy (use --force to force download)\n",
            "Archive:  /content/0403_UkraineCombinedTweetsDeduped.csv.gzip.zip\n",
            "  inflating: /content/0403_UkraineCombinedTweetsDeduped.csv.gzip  \n"
          ]
        },
        {
          "output_type": "execute_result",
          "data": {
            "text/plain": [
              "298604"
            ]
          },
          "metadata": {},
          "execution_count": 7
        }
      ]
    },
    {
      "cell_type": "markdown",
      "source": [
        "Calculate the best value for the bands and the rows given the total number of hash function willing to use and the threshold."
      ],
      "metadata": {
        "id": "oG_6cQD3GASj"
      }
    },
    {
      "cell_type": "markdown",
      "source": [
        "#Setting the Parameters"
      ],
      "metadata": {
        "id": "qJwRXL09fmEQ"
      }
    },
    {
      "cell_type": "code",
      "source": [
        "def isInteger(val:float):\n",
        "  truncated = int(val)\n",
        "  return truncated == val"
      ],
      "metadata": {
        "id": "zTpAQrSZK92a"
      },
      "execution_count": null,
      "outputs": []
    },
    {
      "cell_type": "code",
      "source": [
        "k = 5\n",
        "TotNumberHashFunction = 100\n",
        "ThresholdValue = 0.7\n",
        "\n",
        "\n",
        "Bs = list(range(1, TotNumberHashFunction))\n",
        "Rs = [(TotNumberHashFunction/b) for b in Bs]\n",
        "Integer_Bs = []\n",
        "Integer_Rs = []\n",
        "for i in range(len(Bs)):\n",
        "  if isInteger(Bs[i]) and isInteger(Rs[i]):\n",
        "    Integer_Bs.append(Bs[i])\n",
        "    Integer_Rs.append(int(Rs[i]))\n",
        "Ss = []\n",
        "for i in range(len(Integer_Bs)):\n",
        "  OneOverB = (1/Integer_Bs[i])\n",
        "  OneOverR = (1/Integer_Rs[i])\n",
        "  Ss.append(OneOverB**OneOverR)\n",
        "MinDifference = [np.abs(s-ThresholdValue) for s in Ss]\n",
        "bands = [b for _, b in sorted(zip(MinDifference, Integer_Bs))][0]\n",
        "rows = [r for _, r in sorted(zip(MinDifference, Integer_Rs))][0]\n",
        "print(f'The number of bands is {bands}, and the number of rows per band is {rows}')"
      ],
      "metadata": {
        "colab": {
          "base_uri": "https://localhost:8080/"
        },
        "id": "utz9fRyhViuD",
        "outputId": "4c1064a4-f054-47d0-8e95-7c2f6dcba1c0"
      },
      "execution_count": null,
      "outputs": [
        {
          "output_type": "stream",
          "name": "stdout",
          "text": [
            "The number of bands is 10, and the number of rows per band is 10\n"
          ]
        }
      ]
    },
    {
      "cell_type": "markdown",
      "source": [
        "#Text Cleaning"
      ],
      "metadata": {
        "id": "K_QyP8To-qfJ"
      }
    },
    {
      "cell_type": "code",
      "source": [
        "def cleanText(text:str):\n",
        "  \"\"\"Returns the text cleaned if its length after cleaning is at least 5 characters,\n",
        "  otherwise returns 0.\n",
        "    \n",
        "    Parameters\n",
        "    --------------------------\n",
        "    text:str\n",
        "        The text to be cleaned.\n",
        "    \"\"\"\n",
        "  text = text.lower()\n",
        "  text =  re.sub('\\n|\\\"|\\'', '', text)\n",
        "  text = re.sub('[^a-z#@ ]+', '', text)\n",
        "  text =  re.sub('^\\s+|\\s+$|\\s+(?=\\s)', '', text)\n",
        "  if len(text) > 5:\n",
        "    return text\n",
        "  else:\n",
        "    return 0"
      ],
      "metadata": {
        "id": "QrRp-gZNlX2S"
      },
      "execution_count": null,
      "outputs": []
    },
    {
      "cell_type": "code",
      "source": [
        "RDD_TweetsCleaned = RDD_Tweets.map(lambda x: (x[0], cleanText(x[1])))\\\n",
        "                               .filter(lambda x: x[1] != 0)\n",
        "NumberOfTweets = RDD_TweetsCleaned.count()\n",
        "print(NumberOfTweets)"
      ],
      "metadata": {
        "id": "yUaJXxlwrexB",
        "colab": {
          "base_uri": "https://localhost:8080/"
        },
        "outputId": "573c034f-9bf7-468f-ba30-c8434995f4af"
      },
      "execution_count": null,
      "outputs": [
        {
          "output_type": "stream",
          "name": "stdout",
          "text": [
            "298604\n"
          ]
        }
      ]
    },
    {
      "cell_type": "markdown",
      "source": [
        "#Get only one rapresentative for identical tweets"
      ],
      "metadata": {
        "id": "nqJQlQWD3OVK"
      }
    },
    {
      "cell_type": "code",
      "source": [
        "def hash_polinomialRolling(text: str):\n",
        "  \"\"\"Returns the string hashed using the algorithm polinomial rolling.\n",
        "    \n",
        "    Parameters\n",
        "    --------------------------\n",
        "    text:str\n",
        "        The text to be hashed.\n",
        "    \"\"\"\n",
        "  p, m = 31, 2**32 -1 \n",
        "  length = len(text)\n",
        "  hash_value = 0\n",
        "  p_pow = 1\n",
        "  for i in range(length):\n",
        "      hash_value = (hash_value + (1 + ord(text[i]) - ord('a')) * p_pow) % m\n",
        "      p_pow = (p_pow * p) % m\n",
        "  return hash_value\n",
        "\n",
        "\n",
        "def kShingleNoHash(text:str, k:int)->list:\n",
        "  \"\"\"Returns the list of k-shingles contained in the string.\n",
        "    \n",
        "    Parameters\n",
        "    --------------------------\n",
        "    text:str,\n",
        "        The text from which extract the shingles.\n",
        "    k:int\n",
        "        The lenght of the shingles.\n",
        "    \"\"\"\n",
        "  listOfShingle = []\n",
        "  for i in range(0, len(text)-(k-1)):\n",
        "    substring = text[i: i+k]\n",
        "    listOfShingle.append(substring.lower())\n",
        "  return list(set(listOfShingle))\n",
        "\n",
        "def kShinglePlusHash(text:str, k:int)->list:\n",
        "  \"\"\"Returns the list of hashed k-shingles contained in the string.\n",
        "    \n",
        "    Parameters\n",
        "    --------------------------\n",
        "    text:str,\n",
        "        The text from which extract the shingles.\n",
        "    k:int\n",
        "        The lenght of the shingles.\n",
        "    \"\"\"\n",
        "  listOfShingle = []\n",
        "  for i in range(0, len(text)-(k-1)):\n",
        "    substring = text[i: i+k]\n",
        "    hashedSubstring = hash_polinomialRolling(substring.lower())\n",
        "    listOfShingle.append(hashedSubstring)\n",
        "  return list(set(listOfShingle))\n",
        "\n",
        "  \n",
        "def hashText(text:str):\n",
        "  \"\"\"Returns the polinomial rolling hash of the text.\n",
        "    \n",
        "    Parameters\n",
        "    --------------------------\n",
        "    text:str,\n",
        "        The text to be hashed.\n",
        "    \"\"\"\n",
        "  return hash_polinomialRolling(text.lower())\n",
        "\n",
        "\n",
        "def checkPrime(num:int)->bool:\n",
        "  \"\"\"Function that check if a integer number is a prime number.\n",
        "    \n",
        "    Parameters\n",
        "    --------------------------\n",
        "    num:int\n",
        "        The number to be checked.\n",
        "\n",
        "    Raises\n",
        "    ---------------------\n",
        "    ValueError,\n",
        "        If the number passes as parameter is <= 0.\n",
        "    \n",
        "    Returns\n",
        "    ---------------------\n",
        "    If the number passed as argument is prime --> True\n",
        "    If the number passed as argument is not prime --> False\n",
        "\n",
        "    \n",
        "  \"\"\"\n",
        "  if num <= 0:\n",
        "    raise ValueError('The number passes as parameter must be > 0.')\n",
        "  else:\n",
        "    isPrime = True      \n",
        "    if num > 1:\n",
        "    # Iterate from 2 to n / 2\n",
        "      for i in range(2, int(num/2)+1):\n",
        "          # If num is divisible by any number between\n",
        "          # 2 and n / 2, it is not prime\n",
        "          if (num % i) == 0:\n",
        "              #print(num, \"is not a prime number\")\n",
        "              isPrime = False\n",
        "              break\n",
        "    return isPrime\n",
        "\n",
        "  \n",
        "def firstPrimeNumberBigger(num:int)->int:\n",
        "  \"\"\"Function that calculates the first prime bigger than \n",
        "     the number passed as argument.\n",
        "    \n",
        "    Parameters\n",
        "    --------------------------\n",
        "    num:int\n",
        "        The number from which search the prime number.\n",
        "\n",
        "    Raises\n",
        "    ---------------------\n",
        "    ValueError,\n",
        "        If the number passes as parameter is <= 0.\n",
        "    \n",
        "    Returns\n",
        "    ---------------------\n",
        "    The first prime bigger than the number passed as argument.\n",
        "\n",
        "    \n",
        "  \"\"\"\n",
        "  findPrime = False\n",
        "  while findPrime != True:\n",
        "    findPrime = checkPrime(num)\n",
        "    if findPrime:\n",
        "      return num\n",
        "    else:\n",
        "      num += 1"
      ],
      "metadata": {
        "id": "MvAcYAfPsoQ7"
      },
      "execution_count": null,
      "outputs": []
    },
    {
      "cell_type": "code",
      "source": [
        "RDD_UniqueTweets = RDD_TweetsCleaned.map(lambda x: (hashText(x[1]), x[0]))\\\n",
        "                                    .reduceByKey(lambda x, y: x if x < y else y)\n"
      ],
      "metadata": {
        "id": "tcZ5e9oI2vUU"
      },
      "execution_count": null,
      "outputs": []
    },
    {
      "cell_type": "markdown",
      "source": [
        "#Create the test set"
      ],
      "metadata": {
        "id": "vs8mPLya5fwu"
      }
    },
    {
      "cell_type": "code",
      "source": [
        "def removeMentions(text:str)->str:\n",
        "  \"\"\"Function that removes the mentions from the text.\n",
        "    \n",
        "    Parameters\n",
        "    --------------------------\n",
        "    text:str\n",
        "        The text from which remove the mentions.\n",
        "\n",
        "    \n",
        "    Returns\n",
        "    ---------------------\n",
        "    The text without the mentions.\n",
        "\n",
        "    \n",
        "  \"\"\"\n",
        "  text = text.lower()\n",
        "  text =  re.sub('\\n|\\\"|\\'', ' ', text)\n",
        "  text = re.sub('[^a-z#@ ]+', '', text)\n",
        " \n",
        "  firstOccurrence = text.find('@')\n",
        "  while firstOccurrence != -1:\n",
        "    match_start = firstOccurrence\n",
        "    textTillEnd = text[match_start+1:]\n",
        "    firstOccurrenceSpace = textTillEnd.find(' ')\n",
        "    firstOcurrenceHashtag = textTillEnd.find('#')\n",
        "    firstOcurrenceAt = textTillEnd.find('@')\n",
        "    EndOfSubString = len(textTillEnd)\n",
        "    if firstOccurrenceSpace == -1:\n",
        "      firstOccurrenceSpace = len(textTillEnd)\n",
        "    if firstOcurrenceHashtag == -1:\n",
        "      firstOcurrenceHashtag = len(textTillEnd)\n",
        "    if firstOcurrenceAt == -1:\n",
        "      firstOcurrenceAt = len(textTillEnd)\n",
        "    endOfLink = min(firstOccurrenceSpace, firstOcurrenceHashtag, firstOcurrenceAt, EndOfSubString)\n",
        "    text = text[:match_start] + text[match_start+endOfLink+1:]\n",
        "    firstOccurrence = text.find('@')\n",
        "  text =  re.sub('^\\s+|\\s+$|\\s+(?=\\s)', '', text)\n",
        "  if len(text) > 5:\n",
        "    return text\n",
        "  else:\n",
        "    return 0"
      ],
      "metadata": {
        "id": "4EXKCb-m5fIH"
      },
      "execution_count": null,
      "outputs": []
    },
    {
      "cell_type": "code",
      "source": [
        "RDD_UniqueTweetsInverted = RDD_UniqueTweets.map(lambda x: (x[1], x[0]))\n",
        "RDD_JoinWithText = RDD_UniqueTweetsInverted.leftOuterJoin(RDD_TweetsCleaned)\n",
        "RDD_HashWithAndWithoutMentions = RDD_JoinWithText.map(lambda x: (hashText(removeMentions(x[1][1])), x[0]))\n",
        "RDD_TestSet = RDD_HashWithAndWithoutMentions.join(RDD_HashWithAndWithoutMentions)\\\n",
        "                                          .filter(lambda x: x[1][0] < x[1][1])\\\n",
        "                                          .map(lambda x: x[1])"
      ],
      "metadata": {
        "id": "0jOIgqPJ8oT6"
      },
      "execution_count": null,
      "outputs": []
    },
    {
      "cell_type": "markdown",
      "source": [
        "#Filter out all the identical tweets\n",
        "Maintain only one representative for identical tweets."
      ],
      "metadata": {
        "id": "9Q1nKViA_IUS"
      }
    },
    {
      "cell_type": "code",
      "source": [
        "RDD_UniqueTweetsText = RDD_UniqueTweets.map(lambda x: (x[1], 1))\\\n",
        "                                     .leftOuterJoin(RDD_TweetsCleaned)"
      ],
      "metadata": {
        "id": "1-QXjES5-d_K"
      },
      "execution_count": null,
      "outputs": []
    },
    {
      "cell_type": "markdown",
      "source": [
        "#k-Shingle Hashed\n",
        "Dividing the document in shingles, hashing them and get the number of distict shingles in the entire dataset."
      ],
      "metadata": {
        "id": "ON7N3zOTGDV6"
      }
    },
    {
      "cell_type": "code",
      "source": [
        "RDD_ShinglesHashed = RDD_UniqueTweetsText.map(lambda x: (x[0], kShinglePlusHash(x[1][1], k)))\n",
        "RDD_ShingleHashed = RDD_ShinglesHashed.flatMap(lambda x: [(x[0], x[1][t]) for t in range(len(x[1]))])\n"
      ],
      "metadata": {
        "id": "oMDtQH_kAGVU"
      },
      "execution_count": null,
      "outputs": []
    },
    {
      "cell_type": "markdown",
      "source": [
        "##Number of Distinct k-Shingles"
      ],
      "metadata": {
        "id": "Fue8qXXGgOP_"
      }
    },
    {
      "cell_type": "code",
      "source": [
        "RDD_ShingleHashedDistinct = RDD_ShingleHashed.map(lambda x: x[1]).distinct()\n",
        "NumHashedShingles = RDD_ShingleHashedDistinct.count()\n",
        "NumHashedShingles"
      ],
      "metadata": {
        "colab": {
          "base_uri": "https://localhost:8080/"
        },
        "id": "5DmWztysgUEe",
        "outputId": "6b95b511-3223-40e1-cf71-3e44423af994"
      },
      "execution_count": null,
      "outputs": [
        {
          "output_type": "execute_result",
          "data": {
            "text/plain": [
              "630627"
            ]
          },
          "metadata": {},
          "execution_count": 18
        }
      ]
    },
    {
      "cell_type": "markdown",
      "source": [
        "#Creation Of The Min-Hash Functions"
      ],
      "metadata": {
        "id": "YAazMSzNgjsF"
      }
    },
    {
      "cell_type": "code",
      "source": [
        "def getParamenters(numPartitions:int, TotSignatures:int, NumHashedShingles:int):\n",
        "  \"\"\"Function that creates TotSignatures min-hash functions.\n",
        "    \n",
        "    Parameters\n",
        "    --------------------------\n",
        "    numPartitions:int, \n",
        "        The number of bands.\n",
        "    TotSignatures:int,\n",
        "        The number of min-hash functions.\n",
        "    NumHashedShingles:int\n",
        "        The number of distinct shingles presents in the dataset.\n",
        "    \n",
        "    Returns\n",
        "    ---------------------\n",
        "    dict_hashFunctionParam\n",
        "        Dictionary that contains the parameter of the min-hash functions.\n",
        "    p\n",
        "        The prime number used to create the min-hash values.\n",
        "\n",
        "    \n",
        "  \"\"\"\n",
        "  m = (int(NumHashedShingles/numPartitions))+1\n",
        "  p = firstPrimeNumberBigger(m)\n",
        "  numHashFunctions = (int(TotSignatures/numPartitions))\n",
        "  dict_hashFunctionParam = {}\n",
        "  for i in range(0, numHashFunctions):\n",
        "    a = random.randint(1, p-1)\n",
        "    b = random.randint(0, p-1)\n",
        "    dict_hashFunctionParam[i] = [a, b]\n",
        "  return dict_hashFunctionParam, p"
      ],
      "metadata": {
        "id": "ysPokLjXAd8U"
      },
      "execution_count": null,
      "outputs": []
    },
    {
      "cell_type": "markdown",
      "source": [
        "#Imposting the number of bands and the number of min-hash functions"
      ],
      "metadata": {
        "id": "ElxIBJhcGTBn"
      }
    },
    {
      "cell_type": "code",
      "source": [
        "bands=bands\n",
        "numPartitions=bands\n",
        "TotSignatures=TotNumberHashFunction\n",
        "dict_hashFunctionParam, p = getParamenters(numPartitions=bands, TotSignatures=TotSignatures, NumHashedShingles=NumHashedShingles)\n",
        "dictMinHashFuncBr = sc.broadcast(dict_hashFunctionParam)"
      ],
      "metadata": {
        "id": "ex4HhJyGBMI9"
      },
      "execution_count": null,
      "outputs": []
    },
    {
      "cell_type": "markdown",
      "source": [
        "#Creation of the Min-Hash Values"
      ],
      "metadata": {
        "id": "AVPmLCCrhCmF"
      }
    },
    {
      "cell_type": "code",
      "source": [
        "def getSignatureMatrix(DocIDHashedShingle, dictMinHashFunctions:dict, p:int):\n",
        "  \"\"\"Function that identify the bands to which the hashedShingle belongs\n",
        "     and create its min-hash values.\n",
        "    \n",
        "    Parameters\n",
        "    --------------------------\n",
        "    DocIDHashedShingle:Tuple[int, int],\n",
        "        A tuple containing the DocId and the hashedShingle.\n",
        "    dictMinHashFunctions:dict,\n",
        "        The dictionary contains the parameters of the min-hash functions.\n",
        "    p:int\n",
        "        The prime number used for the calculus of the min-hash functions.\n",
        "    \n",
        "    Returns\n",
        "    ---------------------\n",
        "    Tuple[(int, int), list],\n",
        "        A tuple containing the DocID, the band number and the list of the\n",
        "        min-hash values.\n",
        "    \n",
        "  \"\"\"\n",
        "  list_minHashValues = []\n",
        "  DocID = DocIDHashedShingle[0]\n",
        "  hashedShingle = DocIDHashedShingle[1]\n",
        "  module = hashedShingle % numPartitions\n",
        "  for key, value in dictMinHashFunctions.items():\n",
        "    list_ab = value\n",
        "    minHashValue = (list_ab[0] * hashedShingle + list_ab[1]) % p \n",
        "    list_minHashValues.append(minHashValue)\n",
        "  return ((DocID, module), list_minHashValues)\n",
        "\n",
        "\n",
        "RDD_ShingleHashed_SMValues = RDD_ShingleHashed.map(lambda x: getSignatureMatrix(x, dictMinHashFuncBr.value, p))"
      ],
      "metadata": {
        "id": "MvSDUuZlBctg"
      },
      "execution_count": null,
      "outputs": []
    },
    {
      "cell_type": "code",
      "source": [
        "RDD_ShingleHashed_SMValues.count()"
      ],
      "metadata": {
        "colab": {
          "base_uri": "https://localhost:8080/"
        },
        "id": "hdwlpvj-J66P",
        "outputId": "8f9589e3-c093-4096-b7bd-3dcea45cf8f8"
      },
      "execution_count": null,
      "outputs": [
        {
          "output_type": "execute_result",
          "data": {
            "text/plain": [
              "10909966"
            ]
          },
          "metadata": {},
          "execution_count": 24
        }
      ]
    },
    {
      "cell_type": "code",
      "source": [
        "def reduceCustom(List_minHashValues1, List_minHashValues2):\n",
        "  \"\"\"Function that obtains the minumum value for each min-hash value.\n",
        "    \n",
        "    Parameters\n",
        "    --------------------------\n",
        "    List_minHashValues1,\n",
        "        List of min-hash values.\n",
        "    DocidModuleList_minHashValues2\n",
        "        List of min-hash values.\n",
        "    \n",
        "    Returns\n",
        "    ---------------------\n",
        "    list_result\n",
        "        List containing the minimum value for each min-hash value.\n",
        "    \n",
        "  \"\"\"\n",
        "  list_result = []\n",
        "  for k in range(len(List_minHashValues1)):\n",
        "    list_result.append(min(List_minHashValues1[k], List_minHashValues2[k]))\n",
        "  return list_result\n",
        "\n",
        "\n",
        "RDD_ShingleHashed_MinSMValues = RDD_ShingleHashed_SMValues.reduceByKey(lambda x, y: reduceCustom(x,y))"
      ],
      "metadata": {
        "id": "2HT_-RQYBe3Q"
      },
      "execution_count": null,
      "outputs": []
    },
    {
      "cell_type": "markdown",
      "source": [
        "#Hashing The Bands"
      ],
      "metadata": {
        "id": "FWcRAUa3kG9q"
      }
    },
    {
      "cell_type": "code",
      "source": [
        "def LSH(list_minHashValues)->int:\n",
        "  \"\"\"Function that takes a list of integer value, convert it to a string\n",
        "     and hash it with the polinomial rolling function.\n",
        "    \n",
        "    Parameters\n",
        "    --------------------------\n",
        "    list_minHashValues,\n",
        "        List of min-hash values.\n",
        "    \n",
        "    Returns\n",
        "    ---------------------\n",
        "    int\n",
        "        Hashed value.\n",
        "    \n",
        "  \"\"\"\n",
        "  str_tot = ''\n",
        "  for l in list_minHashValues:\n",
        "    str_tot += str(l)\n",
        "  return hash_polinomialRolling(str_tot)\n",
        "\n",
        "\n",
        "RDD_ShingleHashed_LSH = RDD_ShingleHashed_MinSMValues.map(lambda x: ((x[0][1], LSH(x[1])),x[0][0]))"
      ],
      "metadata": {
        "id": "MC_LQPOPBhm2"
      },
      "execution_count": null,
      "outputs": []
    },
    {
      "cell_type": "markdown",
      "source": [
        "#The Candidate Pairs"
      ],
      "metadata": {
        "id": "weH5BLIJlbFm"
      }
    },
    {
      "cell_type": "code",
      "source": [
        "RDD_ModuleLSH = RDD_ShingleHashed_LSH.join(RDD_ShingleHashed_LSH)\\\n",
        "                                     .filter(lambda x: x[1][0] < x[1][1])\\\n",
        "                                     .map(lambda x: (x[1], 1))\n",
        "RDD_ModuleLSHUnique = RDD_ModuleLSH.reduceByKey(lambda x, y: x+y)"
      ],
      "metadata": {
        "id": "koNTX7K9CAE9"
      },
      "execution_count": null,
      "outputs": []
    },
    {
      "cell_type": "code",
      "source": [
        "RDD_CandidatePairsUnique = RDD_ModuleLSHUnique.map(lambda x: x[0])\n",
        "RDD_CandidatePairsUnique.count()"
      ],
      "metadata": {
        "colab": {
          "base_uri": "https://localhost:8080/"
        },
        "id": "jzG6vUKkCD4G",
        "outputId": "a4c60007-ed7f-4f2e-83ac-a8fe7ecdd7ae"
      },
      "execution_count": null,
      "outputs": [
        {
          "output_type": "execute_result",
          "data": {
            "text/plain": [
              "172261"
            ]
          },
          "metadata": {},
          "execution_count": 37
        }
      ]
    },
    {
      "cell_type": "markdown",
      "source": [
        "#True Positive"
      ],
      "metadata": {
        "id": "OqbIPEW6pWpA"
      }
    },
    {
      "cell_type": "code",
      "source": [
        "RDD_CpBody = RDD_CandidatePairsUnique.leftOuterJoin(RDD_TweetsCleaned)"
      ],
      "metadata": {
        "id": "EyzHOhm_CHPm"
      },
      "execution_count": null,
      "outputs": []
    },
    {
      "cell_type": "code",
      "source": [
        "RDD_CpBody = RDD_CpBody.map(lambda x: (x[1][0], (x[0], x[1][1])))"
      ],
      "metadata": {
        "id": "OuVirhNFCNUl"
      },
      "execution_count": null,
      "outputs": []
    },
    {
      "cell_type": "code",
      "source": [
        "RDD_CpBodyDoubleJoin = RDD_CpBody.leftOuterJoin(RDD_TweetsCleaned)"
      ],
      "metadata": {
        "id": "0cmkYt4OCOiQ"
      },
      "execution_count": null,
      "outputs": []
    },
    {
      "cell_type": "code",
      "source": [
        "RDD_CpBodyDoubleJoin = RDD_CpBodyDoubleJoin.map(lambda x: ((x[1][0][0], x[0]), (x[1][0][1], x[1][1])))"
      ],
      "metadata": {
        "id": "DX7Yr7nBCRd_"
      },
      "execution_count": null,
      "outputs": []
    },
    {
      "cell_type": "code",
      "source": [
        "def getJS(pair):\n",
        "  \"\"\"Function that calculates the Jaccard Similarity between two documents\n",
        "     represented as set of hashed k-shingles.\n",
        "    \n",
        "    Parameters\n",
        "    --------------------------\n",
        "    pair\n",
        "        Variable that contains ((docId1, docID2), (doc1Body, doc2Body))\n",
        "    \n",
        "    Returns\n",
        "    ---------------------\n",
        "    result\n",
        "        Variable that contains ((doc1Id, doc2Id), (doc1Body, doc2Body), JS(doc1, doc2))\n",
        "    \n",
        "  \"\"\"\n",
        "  doc1Id = pair[0][0]\n",
        "  doc2Id = pair[0][1]\n",
        "  doc1Body = pair[1][0]\n",
        "  doc2Body = pair[1][1]\n",
        "  doc1Shingles = kShinglePlusHash(doc1Body, 5)\n",
        "  doc2Shingles = kShinglePlusHash(doc2Body, 5)\n",
        "  intersection = [value for value in doc1Shingles if value in doc2Shingles]\n",
        "  union = doc1Shingles + doc2Shingles\n",
        "  return ((doc1Id, doc2Id), (doc1Body, doc2Body), len(list(set(intersection)))/len(list(set(union))))"
      ],
      "metadata": {
        "id": "0X64z9MZCSZZ"
      },
      "execution_count": null,
      "outputs": []
    },
    {
      "cell_type": "code",
      "source": [
        "RDD_CpTrueSimilarity = RDD_CpBodyDoubleJoin.map(lambda x: getJS(x))"
      ],
      "metadata": {
        "id": "W-kMim54CVSx"
      },
      "execution_count": null,
      "outputs": []
    },
    {
      "cell_type": "code",
      "source": [
        "RDD_CpTrueSimilarityGreatherThan = RDD_CpTrueSimilarity.filter(lambda x: x[2] >= 0.7)\n",
        "RDD_CpTrueSimilarityGreatherThan.count()"
      ],
      "metadata": {
        "colab": {
          "base_uri": "https://localhost:8080/"
        },
        "id": "zVSkpFmSOLjC",
        "outputId": "3170d774-0805-4b19-dd90-20460c65379c"
      },
      "execution_count": null,
      "outputs": [
        {
          "output_type": "execute_result",
          "data": {
            "text/plain": [
              "112370"
            ]
          },
          "metadata": {},
          "execution_count": 36
        }
      ]
    },
    {
      "cell_type": "markdown",
      "source": [
        "#Test results"
      ],
      "metadata": {
        "id": "2xz7CLDjptoV"
      }
    },
    {
      "cell_type": "code",
      "source": [
        "RDD_CpTrueSimilarityGreatherThanJustDocIds = RDD_CpTrueSimilarityGreatherThan.map(lambda x: (x[0], 1))"
      ],
      "metadata": {
        "id": "RtvhVNuhCWO8"
      },
      "execution_count": null,
      "outputs": []
    },
    {
      "cell_type": "code",
      "source": [
        "RDD_TestSetForJoin = RDD_TestSet.map(lambda x: (x, 1))\n",
        "PairsInTestSet = RDD_TestSetForJoin.count()"
      ],
      "metadata": {
        "id": "ROQ0aLfKChKo"
      },
      "execution_count": null,
      "outputs": []
    },
    {
      "cell_type": "code",
      "source": [
        "RDD_JoinWithTestSet = RDD_TestSetForJoin.join(RDD_CpTrueSimilarityGreatherThanJustDocIds)\n",
        "PairsFound = RDD_JoinWithTestSet.count()"
      ],
      "metadata": {
        "id": "edWzWVsICiCv"
      },
      "execution_count": null,
      "outputs": []
    },
    {
      "cell_type": "code",
      "source": [
        "PercentagePairsOfTestSetFound = (PairsFound*100)/PairsInTestSet\n",
        "print(PercentagePairsOfTestSetFound)"
      ],
      "metadata": {
        "colab": {
          "base_uri": "https://localhost:8080/"
        },
        "id": "rCM5NlMrCjSE",
        "outputId": "91784cb9-5343-4477-c719-00b3b940cf79"
      },
      "execution_count": null,
      "outputs": [
        {
          "output_type": "stream",
          "name": "stdout",
          "text": [
            "85.45085950734538\n"
          ]
        }
      ]
    },
    {
      "cell_type": "markdown",
      "source": [
        "#Barplot of the number of candidate pairs per similarity value."
      ],
      "metadata": {
        "id": "RAaXjkLXCmrH"
      }
    },
    {
      "cell_type": "code",
      "source": [
        "RDD_CpTrueSimilarityGreatherThanDocsId = RDD_CpTrueSimilarityGreatherThan.map(lambda x: x[0])"
      ],
      "metadata": {
        "id": "7PEAGTwoCoOq"
      },
      "execution_count": null,
      "outputs": []
    },
    {
      "cell_type": "code",
      "source": [
        "def roundSimilarity(x):\n",
        "  new = round(x[2], 1)\n",
        "  return (x[0], x[1], new)"
      ],
      "metadata": {
        "id": "-wtOBm4LCqFm"
      },
      "execution_count": null,
      "outputs": []
    },
    {
      "cell_type": "code",
      "source": [
        "RDD_CpTrueSimilarityRound = RDD_CpTrueSimilarity.map(lambda x: roundSimilarity(x))"
      ],
      "metadata": {
        "id": "TG2ESJOcCq9x"
      },
      "execution_count": null,
      "outputs": []
    },
    {
      "cell_type": "code",
      "source": [
        "RDD_CpTrueSimilarityRoundRBK = RDD_CpTrueSimilarityRound.map(lambda x: (x[2], 1)).reduceByKey(lambda x,y: x+y)"
      ],
      "metadata": {
        "id": "SKpgOeYECrzq"
      },
      "execution_count": null,
      "outputs": []
    },
    {
      "cell_type": "code",
      "source": [
        "NumSimilaritiesPerThreshold = sorted(RDD_CpTrueSimilarityRoundRBK.collect())"
      ],
      "metadata": {
        "id": "vGetduEFC07i"
      },
      "execution_count": null,
      "outputs": []
    },
    {
      "cell_type": "code",
      "source": [
        "x = []\n",
        "y = []\n",
        "for pair in NumSimilaritiesPerThreshold:\n",
        "  x.append(str(pair[0]))\n",
        "  y.append(pair[1])\n",
        "fig = plt.figure()\n",
        "ax = fig.add_axes([0,0,1,1])\n",
        "langs = x\n",
        "students = y\n",
        "ax.bar(langs,students)\n",
        "plt.xlabel('Threshold')\n",
        "plt.ylabel('Number of results')\n",
        "plt.title('Results per similarity values')\n",
        "plt.show()"
      ],
      "metadata": {
        "colab": {
          "base_uri": "https://localhost:8080/",
          "height": 366
        },
        "id": "UZ6u4fUiC1_s",
        "outputId": "ffc4597b-7090-44b9-f4b3-e4d61e6a6ad6"
      },
      "execution_count": null,
      "outputs": [
        {
          "output_type": "display_data",
          "data": {
            "text/plain": [
              "<Figure size 432x288 with 1 Axes>"
            ],
            "image/png": "[encoded data removed]"
          },
          "metadata": {
            "needs_background": "light"
          }
        }
      ]
    }
  ]
}